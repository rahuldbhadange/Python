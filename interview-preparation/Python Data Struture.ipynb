{
 "cells": [
  {
   "cell_type": "code",
   "execution_count": 32,
   "metadata": {},
   "outputs": [
    {
     "name": "stdout",
     "output_type": "stream",
     "text": [
      "<class 'int'> <class 'str'> <class 'list'> <class 'tuple'> <class 'dict'> <class 'set'>\n"
     ]
    }
   ],
   "source": [
    "w = 25\n",
    "x = 'computer'\n",
    "y = ['c', '6', 'y', 'qura', [\"python\",\"java\",\"c++\"],{\"keyy\":\"value\"}]\n",
    "z = (\"dsgs\",\"dsf\",\"dsg\",\"iu9\",\"gsf\",\"sdg\",\"gs\",\"ddg\")\n",
    "dic = {\"keyy\":\"value\"}\n",
    "s = set([\"Build an unordered collection of unique elements.\",'c', '6', 'y'])\n",
    "print(type(w),type(x), type(y), type(z), type(dic), type(s))"
   ]
  },
  {
   "cell_type": "code",
   "execution_count": 18,
   "metadata": {},
   "outputs": [
    {
     "name": "stdout",
     "output_type": "stream",
     "text": [
      "computer\n"
     ]
    }
   ],
   "source": [
    "print(x[:])"
   ]
  },
  {
   "cell_type": "code",
   "execution_count": 7,
   "metadata": {},
   "outputs": [
    {
     "name": "stdout",
     "output_type": "stream",
     "text": [
      "r\n"
     ]
    }
   ],
   "source": [
    "print(x[-1])"
   ]
  },
  {
   "cell_type": "code",
   "execution_count": 19,
   "metadata": {},
   "outputs": [
    {
     "name": "stdout",
     "output_type": "stream",
     "text": [
      "[['python', 'java', 'c++'], {'keyy': 'value'}]\n"
     ]
    }
   ],
   "source": [
    "print(y[-2:])"
   ]
  },
  {
   "cell_type": "code",
   "execution_count": 22,
   "metadata": {},
   "outputs": [
    {
     "name": "stdout",
     "output_type": "stream",
     "text": [
      "('dsgs', 'dsf', 'dsg', 'iu9', 'gsf')\n"
     ]
    }
   ],
   "source": [
    "print(z[:-3])"
   ]
  },
  {
   "cell_type": "code",
   "execution_count": 35,
   "metadata": {},
   "outputs": [
    {
     "name": "stdout",
     "output_type": "stream",
     "text": [
      "c\n",
      "o\n",
      "m\n",
      "p\n",
      "u\n",
      "t\n",
      "e\n",
      "r\n",
      "\n",
      "0 c\n",
      "1 o\n",
      "2 m\n",
      "3 p\n",
      "4 u\n",
      "5 t\n",
      "6 e\n",
      "7 r\n"
     ]
    }
   ],
   "source": [
    "# iterting - enumerating\n",
    "\n",
    "for value in x:\n",
    "    print(value)\n",
    "print()\n",
    "for index, value in enumerate(x):\n",
    "    print(index, value)\n"
   ]
  },
  {
   "cell_type": "markdown",
   "metadata": {},
   "source": [
    "    indexing\n",
    "    slicing\n",
    "    adding/concating\n",
    "    multiplying\n",
    "    checking membership - in/not in\n",
    "    iterting - enumerating\n",
    "    size - len()\n",
    "    min()\n",
    "    max() lexicographically\n",
    "    sum() - sum(y[1:5]) can also be done"
   ]
  },
  {
   "cell_type": "code",
   "execution_count": 36,
   "metadata": {},
   "outputs": [
    {
     "data": {
      "text/plain": [
       "['c', 'e', 'm', 'o', 'p', 'r', 't', 'u']"
      ]
     },
     "execution_count": 36,
     "metadata": {},
     "output_type": "execute_result"
    }
   ],
   "source": [
    "sorted(x)"
   ]
  },
  {
   "cell_type": "code",
   "execution_count": 37,
   "metadata": {},
   "outputs": [
    {
     "data": {
      "text/plain": [
       "'computer'"
      ]
     },
     "execution_count": 37,
     "metadata": {},
     "output_type": "execute_result"
    }
   ],
   "source": [
    "x"
   ]
  },
  {
   "cell_type": "code",
   "execution_count": 39,
   "metadata": {},
   "outputs": [
    {
     "data": {
      "text/plain": [
       "['ddg', 'dsf', 'dsg', 'dsgs', 'gs', 'gsf', 'iu9', 'sdg']"
      ]
     },
     "execution_count": 39,
     "metadata": {},
     "output_type": "execute_result"
    }
   ],
   "source": [
    "sorted(z)"
   ]
  },
  {
   "cell_type": "code",
   "execution_count": 42,
   "metadata": {},
   "outputs": [
    {
     "data": {
      "text/plain": [
       "<function __main__.<lambda>(z)>"
      ]
     },
     "execution_count": 42,
     "metadata": {},
     "output_type": "execute_result"
    }
   ],
   "source": [
    "f = lambda z : z[1] \n",
    "f"
   ]
  },
  {
   "cell_type": "code",
   "execution_count": 57,
   "metadata": {},
   "outputs": [],
   "source": [
    "ld = [\"fdsiuhg\", \"iufbwsed\", \"jhfgsiu\", \"jyhfiusdw\", \"seg5hneoi\", \"upv1fdu\", \"rfhggvrsa\", \"upv1fdu\"]"
   ]
  },
  {
   "cell_type": "code",
   "execution_count": 58,
   "metadata": {},
   "outputs": [
    {
     "data": {
      "text/plain": [
       "['fdsiuhg',\n",
       " 'seg5hneoi',\n",
       " 'rfhggvrsa',\n",
       " 'jhfgsiu',\n",
       " 'upv1fdu',\n",
       " 'upv1fdu',\n",
       " 'iufbwsed',\n",
       " 'jyhfiusdw']"
      ]
     },
     "execution_count": 58,
     "metadata": {},
     "output_type": "execute_result"
    }
   ],
   "source": [
    "sorted(ld, key = lambda ra : ra[1])"
   ]
  },
  {
   "cell_type": "code",
   "execution_count": 60,
   "metadata": {},
   "outputs": [
    {
     "data": {
      "text/plain": [
       "2"
      ]
     },
     "execution_count": 60,
     "metadata": {},
     "output_type": "execute_result"
    }
   ],
   "source": [
    "ld.count('upv1fdu')"
   ]
  },
  {
   "cell_type": "code",
   "execution_count": 62,
   "metadata": {},
   "outputs": [
    {
     "data": {
      "text/plain": [
       "5"
      ]
     },
     "execution_count": 62,
     "metadata": {},
     "output_type": "execute_result"
    }
   ],
   "source": [
    "ld.index(\"upv1fdu\") # first occurance # "
   ]
  },
  {
   "cell_type": "code",
   "execution_count": 63,
   "metadata": {},
   "outputs": [],
   "source": [
    "a,b,c,d,e,f,g,h = [\"fdsiuhg\", \"iufbwsed\", \"jhfgsiu\", \"jyhfiusdw\", \"seg5hneoi\", \"upv1fdu\", \"rfhggvrsa\", \"upv1fdu\"]"
   ]
  },
  {
   "cell_type": "code",
   "execution_count": 64,
   "metadata": {},
   "outputs": [
    {
     "data": {
      "text/plain": [
       "'fdsiuhg'"
      ]
     },
     "execution_count": 64,
     "metadata": {},
     "output_type": "execute_result"
    }
   ],
   "source": [
    "a"
   ]
  },
  {
   "cell_type": "code",
   "execution_count": 65,
   "metadata": {},
   "outputs": [
    {
     "data": {
      "text/plain": [
       "'upv1fdu'"
      ]
     },
     "execution_count": 65,
     "metadata": {},
     "output_type": "execute_result"
    }
   ],
   "source": [
    "h"
   ]
  },
  {
   "cell_type": "code",
   "execution_count": 66,
   "metadata": {},
   "outputs": [
    {
     "data": {
      "text/plain": [
       "'seg5hneoi'"
      ]
     },
     "execution_count": 66,
     "metadata": {},
     "output_type": "execute_result"
    }
   ],
   "source": [
    "e"
   ]
  },
  {
   "cell_type": "code",
   "execution_count": 67,
   "metadata": {},
   "outputs": [
    {
     "data": {
      "text/plain": [
       "['fdsiuhg',\n",
       " 'rahul',\n",
       " 'iufbwsed',\n",
       " 'jhfgsiu',\n",
       " 'jyhfiusdw',\n",
       " 'seg5hneoi',\n",
       " 'upv1fdu',\n",
       " 'rfhggvrsa',\n",
       " 'upv1fdu']"
      ]
     },
     "execution_count": 67,
     "metadata": {},
     "output_type": "execute_result"
    }
   ],
   "source": [
    "ld.insert(1, \"rahul\")  # insert to specific index location\n",
    "ld"
   ]
  },
  {
   "cell_type": "code",
   "execution_count": 69,
   "metadata": {},
   "outputs": [
    {
     "ename": "AttributeError",
     "evalue": "'list' object has no attribute 'delete'",
     "output_type": "error",
     "traceback": [
      "\u001b[1;31m---------------------------------------------------------------------------\u001b[0m",
      "\u001b[1;31mAttributeError\u001b[0m                            Traceback (most recent call last)",
      "\u001b[1;32m<ipython-input-69-be54969a3b2a>\u001b[0m in \u001b[0;36m<module>\u001b[1;34m\u001b[0m\n\u001b[1;32m----> 1\u001b[1;33m \u001b[0mld\u001b[0m\u001b[1;33m.\u001b[0m\u001b[0mdelete\u001b[0m\u001b[1;33m(\u001b[0m\u001b[1;34m\"rahul\"\u001b[0m\u001b[1;33m)\u001b[0m\u001b[1;33m\u001b[0m\u001b[1;33m\u001b[0m\u001b[0m\n\u001b[0m\u001b[0;32m      2\u001b[0m \u001b[0mld\u001b[0m\u001b[1;33m\u001b[0m\u001b[1;33m\u001b[0m\u001b[0m\n",
      "\u001b[1;31mAttributeError\u001b[0m: 'list' object has no attribute 'delete'"
     ]
    }
   ],
   "source": [
    "ld.delete(\"rahul\")\n",
    "ld"
   ]
  },
  {
   "cell_type": "code",
   "execution_count": 70,
   "metadata": {},
   "outputs": [],
   "source": [
    "results = [(1, 2, 4), (2, 4, 1), (1, 5, 2), (1, 4, 1)]\n",
    "for position in results:\n",
    "    for check in results:\n",
    "        if position[0] == check[0] and position[1] < check[1] and position[2] < check[2]:\n",
    "            results.remove(position)"
   ]
  },
  {
   "cell_type": "code",
   "execution_count": 71,
   "metadata": {},
   "outputs": [
    {
     "data": {
      "text/plain": [
       "[(1, 2, 4),\n",
       " (1, 2, 4),\n",
       " (1, 2, 4),\n",
       " (1, 2, 4),\n",
       " (2, 4, 1),\n",
       " (2, 4, 1),\n",
       " (2, 4, 1),\n",
       " (2, 4, 1),\n",
       " (1, 5, 2),\n",
       " (1, 5, 2),\n",
       " (1, 5, 2),\n",
       " (1, 5, 2),\n",
       " (1, 4, 1),\n",
       " (1, 4, 1),\n",
       " (1, 4, 1)]"
      ]
     },
     "execution_count": 71,
     "metadata": {},
     "output_type": "execute_result"
    }
   ],
   "source": [
    "my_list = [(1, 2, 4), (2, 4, 1), (1, 5, 2), (1, 4, 1)]\n",
    "results = []\n",
    "for position in my_list:\n",
    "    for check in my_list:\n",
    "        if not (position[0] == check[0] and position[1] < check[1] and position[2] < check[2]):\n",
    "            results.append(position)\n",
    "\n",
    "results"
   ]
  },
  {
   "cell_type": "code",
   "execution_count": 73,
   "metadata": {},
   "outputs": [
    {
     "name": "stdout",
     "output_type": "stream",
     "text": [
      "Bengaluru\n",
      "Nashik\n",
      "[('Pune', 'Nashik'), ('Solapur', 'Pune'), ('Hydrabad', 'Solapur'), ('Bengaluru', 'Hydrabad')]\n"
     ]
    }
   ],
   "source": [
    "source = \"Bengaluru\"\n",
    "destination = \"Nashik\"\n",
    "flight_stack = [(\"Pune\", \"Nashik\"), (\"Solapur\", \"Pune\"), (\"Hydrabad\", \"Solapur\"), (\"Bengaluru\", \"Hydrabad\")]\n",
    "print(source)\n",
    "print(destination)\n",
    "print(flight_stack)"
   ]
  },
  {
   "cell_type": "code",
   "execution_count": 120,
   "metadata": {},
   "outputs": [],
   "source": [
    "def boarding(source, destination, flight_stack):\n",
    "#     print(source)\n",
    "#     print(destination)\n",
    "#     print(flight_stack)\n",
    "    \n",
    "    \n",
    "    \n",
    "    \n",
    "    \n",
    "    result = []\n",
    "    flight_stack_len = len(flight_stack) - 1\n",
    "    \n",
    "    for flight in flight_stack:\n",
    "        if flight[0] == source:\n",
    "            result.append(flight)\n",
    "        # now search last of source \n",
    "    while True:    \n",
    "        for element in flight_stack:\n",
    "    #         print(result[0][1])\n",
    "    #         print(element[0])\n",
    "            if element[0] == result[0][1]:\n",
    "                result.append(element)\n",
    "                continue\n",
    "\n",
    "            \n",
    "            \n",
    "    print(result)\n",
    "#     return flight_stack[0][0] == flight_stack[1][1]"
   ]
  },
  {
   "cell_type": "code",
   "execution_count": 88,
   "metadata": {},
   "outputs": [
    {
     "name": "stdout",
     "output_type": "stream",
     "text": [
      "[('Pune', 'Nashik'), ('Solapur', 'Pune'), ('Hydrabad', 'Solapur'), ('Bengaluru', 'Hydrabad')]\n",
      "0 ('Pune', 'Solapur', 'Hydrabad', 'Bengaluru')\n",
      "1 ('Nashik', 'Pune', 'Solapur', 'Hydrabad')\n"
     ]
    }
   ],
   "source": [
    "print(flight_stack)\n",
    "data = zip(*flight_stack)\n",
    "lis_data = []\n",
    "for index, value in enumerate(data):\n",
    "    lis_data.append(value)\n",
    "    \n",
    "    print(index, value)"
   ]
  },
  {
   "cell_type": "code",
   "execution_count": 89,
   "metadata": {},
   "outputs": [
    {
     "data": {
      "text/plain": [
       "[('Pune', 'Solapur', 'Hydrabad', 'Bengaluru'),\n",
       " ('Nashik', 'Pune', 'Solapur', 'Hydrabad')]"
      ]
     },
     "execution_count": 89,
     "metadata": {},
     "output_type": "execute_result"
    }
   ],
   "source": [
    "lis_data"
   ]
  },
  {
   "cell_type": "code",
   "execution_count": null,
   "metadata": {},
   "outputs": [],
   "source": [
    "boarding(source, destination, flight_stack)"
   ]
  },
  {
   "cell_type": "code",
   "execution_count": null,
   "metadata": {},
   "outputs": [],
   "source": []
  },
  {
   "cell_type": "code",
   "execution_count": null,
   "metadata": {},
   "outputs": [],
   "source": []
  },
  {
   "cell_type": "code",
   "execution_count": null,
   "metadata": {},
   "outputs": [],
   "source": []
  },
  {
   "cell_type": "code",
   "execution_count": null,
   "metadata": {},
   "outputs": [],
   "source": []
  },
  {
   "cell_type": "code",
   "execution_count": null,
   "metadata": {},
   "outputs": [],
   "source": []
  },
  {
   "cell_type": "code",
   "execution_count": null,
   "metadata": {},
   "outputs": [],
   "source": []
  },
  {
   "cell_type": "code",
   "execution_count": null,
   "metadata": {},
   "outputs": [],
   "source": []
  },
  {
   "cell_type": "code",
   "execution_count": null,
   "metadata": {},
   "outputs": [],
   "source": []
  },
  {
   "cell_type": "code",
   "execution_count": null,
   "metadata": {},
   "outputs": [],
   "source": []
  },
  {
   "cell_type": "code",
   "execution_count": null,
   "metadata": {},
   "outputs": [],
   "source": []
  },
  {
   "cell_type": "code",
   "execution_count": null,
   "metadata": {},
   "outputs": [],
   "source": []
  },
  {
   "cell_type": "code",
   "execution_count": null,
   "metadata": {},
   "outputs": [],
   "source": []
  }
 ],
 "metadata": {
  "kernelspec": {
   "display_name": "Python 3",
   "language": "python",
   "name": "python3"
  },
  "language_info": {
   "codemirror_mode": {
    "name": "ipython",
    "version": 3
   },
   "file_extension": ".py",
   "mimetype": "text/x-python",
   "name": "python",
   "nbconvert_exporter": "python",
   "pygments_lexer": "ipython3",
   "version": "3.7.3"
  }
 },
 "nbformat": 4,
 "nbformat_minor": 2
}
