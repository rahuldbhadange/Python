{
  "nbformat": 4,
  "nbformat_minor": 0,
  "metadata": {
    "colab": {
      "name": "Rahul-stackBOX.ipynb",
      "provenance": [],
      "collapsed_sections": []
    },
    "kernelspec": {
      "name": "python3",
      "display_name": "Python 3"
    }
  },
  "cells": [
    {
      "cell_type": "code",
      "metadata": {
        "id": "ldyx3QD9ZBqD",
        "colab_type": "code",
        "colab": {
          "base_uri": "https://localhost:8080/",
          "height": 34
        },
        "outputId": "d2a96699-89b8-4816-9278-b5524b7f5506"
      },
      "source": [
        "\"\"\"\n",
        "Instructions:\n",
        "    Go to colab.research.google.com, create a new python3 notebook and paste this code. You can start modifying it.\n",
        "    For submitting, download the notebook (.ipynb) and send us (File Menu -> Download .ipynb. Attach this in reply to the original email). Also include your resume/website link.\n",
        " \n",
        "Problem Statement:\n",
        "    Some schools and houses are located on the globe. Find the nearest school for each house.\n",
        " \n",
        "Assumptions:\n",
        "   Earth is a perfect sphere.\n",
        "   Distance between any two points is given by the great-circle distance (you can use haversine or some approximation).\n",
        "   If there are two schools closest to a house, the one that appears first in the list of schools is the correct one. (Stability)\n",
        "\"\"\"\n",
        " \n",
        "import numpy as np  # Recommended for vector calculations\n",
        "from scipy.spatial.distance import cdist\n",
        "\n",
        " \n",
        "# Rahul Bhadange\n",
        "def find_best_school(houses, schools):\n",
        "    # Inputs: Array of coordinate-tuples (latitude, longitude in degrees) for all houses and all schools.\n",
        "    # Output: Array of the index of the nearest school for each house.\n",
        "    # This is a place-holder function that returns a random output. Please modify this function.\n",
        "    result = []\n",
        "    \n",
        "    for index, house in enumerate(houses):\n",
        "        result.append(schools.index(schools[cdist([house], schools).argmin()]))\n",
        "    return result\n",
        " \n",
        "def basic_test(my_function):\n",
        "    # Demo input, do not round. Locations are given in (latitude, longitude) pairs (in degrees). It is not the same as cartesian coordinates (x,y)\n",
        "    houses = [(28.1, 78), (13, 78), (13, 26), (28, 76)]\n",
        "    schools = [(28, 77), (13, 77), (20, 68)]\n",
        "    answer = [0, 1, 2, 0]\n",
        "    output = my_function(houses, schools)\n",
        "    try:\n",
        "        print(\"Basic Score: {:0.2%}\".format((np.array(answer) == output).mean()))\n",
        "    except:\n",
        "        print(\"Error: give the index of nearest school for each house in the list\")\n",
        " \n",
        "\"\"\"\n",
        "We have some automated tests similar to the basic_test above, that judge speed and accuracy on 1000 houses and 1000 schools.\n",
        "The best solution is accurate, fast, with low memory use and short, in that order. (Accuracy in finding the nearest school correctly)\n",
        "It is good to use common libraries like numpy, scipy etc than writing extra lines of code (as long as the speed does not reduce).\n",
        "Make sure your function can fit inside a single cell of Google Colab Notebook (colab.research.google.com).\n",
        "\"\"\"\n",
        " \n",
        "basic_test(find_best_school)\n",
        "# Aim for 100% score. #StackBOX\n",
        "# This document is the intellectual property of StackBOX (stackbox.xyz). Do not publish this question or its solutions online.\n"
      ],
      "execution_count": 6,
      "outputs": [
        {
          "output_type": "stream",
          "text": [
            "Basic Score: 100.00%\n"
          ],
          "name": "stdout"
        }
      ]
    }
  ]
}