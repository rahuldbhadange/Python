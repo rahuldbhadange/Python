{
 "cells": [
  {
   "cell_type": "code",
   "execution_count": 112,
   "metadata": {},
   "outputs": [
    {
     "name": "stdout",
     "output_type": "stream",
     "text": [
      "[{'name': 'Ram', 'class': '11', 'age': '18'}, {'name': 'Shyam', 'class': '12', 'age': '19'}, {'name': 'Arpit', 'class': '10', 'age': '15'}]\n",
      "[{'name': 'Ram', 'class': '11', 'age': '18'}, {'name': 'Shyam', 'class': '12', 'age': '19'}, {'name': 'Arpit', 'class': '10', 'age': '15'}]\n"
     ]
    }
   ],
   "source": [
    "def mapp(Inputt):\n",
    "    res = []\n",
    "    n = len(Inputt)\n",
    "    for i in range(1, n):\n",
    "        d = {}\n",
    "        d[Inputt[0][0]] = Inputt[i][0]\n",
    "        d[Inputt[0][1]] = Inputt[i][1]\n",
    "        d[Inputt[0][2]] = Inputt[i][2]\n",
    "        res.append(d)\n",
    "    print(res)\n",
    "    \n",
    "Inputt = [['name', 'class', 'age'], ['Ram','11','18'], ['Shyam','12','19'],['Arpit','10','15']]\n",
    "# Output  = [{‘name': 'ram', 'class': '11', 'age':'18’},\n",
    "# {'name': 'shyam', 'class': '12', 'age':'19’},\n",
    "# {'name': ‘Arpit’, 'class': '10’, 'age':'15’}]\n",
    "mapp(Inputt)\n",
    "\n",
    "\n",
    "l = []\n",
    "for i in Inputt[1:]:\n",
    "    l.append({k:v for k,v in zip(Inputt[0],i)})\n",
    "print(l)"
   ]
  },
  {
   "cell_type": "code",
   "execution_count": 124,
   "metadata": {
    "scrolled": true
   },
   "outputs": [
    {
     "data": {
      "text/plain": [
       "3000000"
      ]
     },
     "execution_count": 124,
     "metadata": {},
     "output_type": "execute_result"
    }
   ],
   "source": [
    "(10*12*25000)+()"
   ]
  },
  {
   "cell_type": "code",
   "execution_count": 123,
   "metadata": {},
   "outputs": [
    {
     "data": {
      "text/plain": [
       "1730400"
      ]
     },
     "execution_count": 123,
     "metadata": {},
     "output_type": "execute_result"
    }
   ],
   "source": [
    "(10*7920*12)+(52000*15)"
   ]
  },
  {
   "cell_type": "code",
   "execution_count": 115,
   "metadata": {},
   "outputs": [
    {
     "name": "stdout",
     "output_type": "stream",
     "text": [
      "Counter({'I': 3, 'to': 3, 'am': 2, 'going': 2, 'market.': 1, 'Market.': 1, 'will': 1, 'go': 1, 'delhi.': 1})\n"
     ]
    }
   ],
   "source": [
    "# Input = \"I am good\"\n",
    "\n",
    "Input = \"\"\"I am going to market.\n",
    "          I am going to Market.\n",
    "          I will go to delhi.\"\"\"\n",
    "\n",
    "Output : {'I' : 3, 'am': 2}\n",
    "\n",
    "from collections import Counter\n",
    "print(Counter(Input.split()))"
   ]
  },
  {
   "cell_type": "code",
   "execution_count": 114,
   "metadata": {},
   "outputs": [
    {
     "name": "stdout",
     "output_type": "stream",
     "text": [
      "[22, 21, 20, 19, 18, 17, 16, 15, 14, 13, 12, 11, 10, 9, 8, 7, 6, 5, 4, 3, 2, 1, 0]\n",
      "[22, 21, 20, 19, 18, 17, 16, 15, 14, 13, 12, 11, 10, 9, 8, 7, 6, 5, 4, 3, 2, 1, 0]\n",
      "[10, 11, 12, 13, 14, 15]\n"
     ]
    }
   ],
   "source": [
    "l = [0, 1, 2, 3, 4, 5, 6, 7, 8, 9, 10, 11, 12, 13, 14, 15, 16, 17, 18, 19, 20, 21, 22]\n",
    "ll = []\n",
    "for i in range(len(l)-1, -1, -1):\n",
    "    ll.append(l[i])\n",
    "print(ll)\n",
    "\n",
    "a = [i for i in reversed(l)]\n",
    "print(a)\n",
    "\n",
    "print(l[10:16])"
   ]
  }
 ],
 "metadata": {
  "kernelspec": {
   "display_name": "Python 3",
   "language": "python",
   "name": "python3"
  },
  "language_info": {
   "codemirror_mode": {
    "name": "ipython",
    "version": 3
   },
   "file_extension": ".py",
   "mimetype": "text/x-python",
   "name": "python",
   "nbconvert_exporter": "python",
   "pygments_lexer": "ipython3",
   "version": "3.7.3"
  }
 },
 "nbformat": 4,
 "nbformat_minor": 2
}
